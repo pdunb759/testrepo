{
 "cells": [
  {
   "cell_type": "markdown",
   "id": "133ffa0a-074d-491a-9ae7-cdcc2daec806",
   "metadata": {},
   "source": [
    "# Data Science Tools and Ecosystem"
   ]
  },
  {
   "cell_type": "markdown",
   "id": "69d1b0fa-dd14-4d1b-8666-da86a3356b79",
   "metadata": {},
   "source": [
    "In this notebook, Data Science Tools and Ecosystem are summarized."
   ]
  },
  {
   "cell_type": "markdown",
   "id": "f9648cc1-5b44-41d2-84a8-7ce89f2c7785",
   "metadata": {},
   "source": [
    "**Objectives:**\n",
    "* List popular languages for Data Science\n",
    "* List commonly used libraries for Data Science\n",
    "* Table of open source tools for Data Science"
   ]
  },
  {
   "cell_type": "markdown",
   "id": "8ed9370e-685c-425d-898d-b0dc6be93d02",
   "metadata": {},
   "source": [
    "Some of the popular languages that Data Scientists use are:\n",
    "1. Python\n",
    "2. Java\n",
    "3. SQL\n",
    "4. R\n",
    "5. Julia "
   ]
  },
  {
   "cell_type": "markdown",
   "id": "88f3e332-c1e9-4470-8453-e092ca98b464",
   "metadata": {},
   "source": [
    "Some of the commonly used libraries used by Data Scientists include:\n",
    "1. TensorFlow\n",
    "2. NumPy\n",
    "3. SciPy\n",
    "4. Pandas"
   ]
  },
  {
   "cell_type": "markdown",
   "id": "5ad1c4d3-2fcb-4691-95a1-19b885c3f2ce",
   "metadata": {},
   "source": [
    "| Data Science Tools |\n",
    "| ---------------------------|\n",
    "|Jupyter Notebook|\n",
    "|RStudio |\n",
    "|MATLAB |"
   ]
  },
  {
   "cell_type": "markdown",
   "id": "e2d46624-8468-49a8-8d5a-f8d525cbd223",
   "metadata": {},
   "source": [
    "### Below are a few examples of evaluating arithmetic expressions in Python"
   ]
  },
  {
   "cell_type": "code",
   "execution_count": 8,
   "id": "a001087c-9cc3-4629-b747-e12dd2a8dbff",
   "metadata": {},
   "outputs": [],
   "source": [
    "# This a simple arithmetic expression to mutiply then add integers"
   ]
  },
  {
   "cell_type": "code",
   "execution_count": 6,
   "id": "91c44b1e-e8f2-4435-a253-cd858479a85e",
   "metadata": {},
   "outputs": [
    {
     "data": {
      "text/plain": [
       "17"
      ]
     },
     "execution_count": 6,
     "metadata": {},
     "output_type": "execute_result"
    }
   ],
   "source": [
    "(3*4)+5"
   ]
  },
  {
   "cell_type": "code",
   "execution_count": null,
   "id": "da70e1f3-bd63-41aa-98d5-e5609ea16d25",
   "metadata": {},
   "outputs": [],
   "source": [
    "# This will convert 200 minutes to hours by diving by 60"
   ]
  },
  {
   "cell_type": "code",
   "execution_count": 9,
   "id": "a2977b4b-0f26-4365-be2b-1900d31f9b20",
   "metadata": {},
   "outputs": [
    {
     "data": {
      "text/plain": [
       "3.3333333333333335"
      ]
     },
     "execution_count": 9,
     "metadata": {},
     "output_type": "execute_result"
    }
   ],
   "source": [
    "200/60 "
   ]
  },
  {
   "cell_type": "markdown",
   "id": "c90c3201-f61b-4c95-99d3-e61307e7de8f",
   "metadata": {},
   "source": [
    "## Author\n",
    "Pat "
   ]
  },
  {
   "cell_type": "code",
   "execution_count": null,
   "id": "baa1a6db-b886-4016-a9dd-52a42fa5329a",
   "metadata": {},
   "outputs": [],
   "source": []
  }
 ],
 "metadata": {
  "kernelspec": {
   "display_name": "Python 3 (ipykernel)",
   "language": "python",
   "name": "python3"
  },
  "language_info": {
   "codemirror_mode": {
    "name": "ipython",
    "version": 3
   },
   "file_extension": ".py",
   "mimetype": "text/x-python",
   "name": "python",
   "nbconvert_exporter": "python",
   "pygments_lexer": "ipython3",
   "version": "3.11.9"
  }
 },
 "nbformat": 4,
 "nbformat_minor": 5
}
